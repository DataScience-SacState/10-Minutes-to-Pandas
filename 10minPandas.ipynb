{
 "metadata": {
  "name": "",
  "signature": "sha256:d1184bac863f44cf8f849a30fdba8ad2555624a8e42ca94464f88f7478410c5f"
 },
 "nbformat": 3,
 "nbformat_minor": 0,
 "worksheets": [
  {
   "cells": [
    {
     "cell_type": "heading",
     "level": 1,
     "metadata": {},
     "source": [
      "Chapter 5 - 10 Minutes to Pandas from:<br/>\n",
      "http://pandas.pydata.org/pandas-docs/version/0.16.0/pandas.pdf"
     ]
    },
    {
     "cell_type": "code",
     "collapsed": false,
     "input": [
      "import pandas as pd\n",
      "import numpy as np\n",
      "import matplotlib.pyplot as plt"
     ],
     "language": "python",
     "metadata": {},
     "outputs": [],
     "prompt_number": 1
    },
    {
     "cell_type": "markdown",
     "metadata": {},
     "source": [
      "**5.1 Object Creation: Creating Series, Dates, and DataFrames**"
     ]
    },
    {
     "cell_type": "code",
     "collapsed": false,
     "input": [
      "s = pd.Series([1,3,5, np.nan,6,8])\n",
      "dates = pd.date_range('20130101', periods=6)\n",
      "print \"Series created:\"\n",
      "print s\n",
      "print \"Date range created:\"\n",
      "print dates\n",
      "df = pd.DataFrame(np.random.randn(6,4), index=dates, columns=list('ABCD'))\n",
      "print \"Data frame created:\"\n",
      "print df\n",
      "df2 = pd.DataFrame({'A' : 1., \n",
      "                    'B' : pd.Timestamp('20130102'),\n",
      "                    'C' : pd.Series(1,index=list(range(4)), dtype='float32'),\n",
      "                    'D' : np.array([3] * 4,dtype='int32'),\n",
      "                    'E' : pd.Categorical([\"test\", \"train\", \"test\", \"train\"]),\n",
      "                    'F' : 'foo'})\n",
      "print \"Data frame 2 created:\"\n",
      "print df2\n",
      "print \"Data frame 2 types:\"\n",
      "print df2.dtypes"
     ],
     "language": "python",
     "metadata": {},
     "outputs": [
      {
       "output_type": "stream",
       "stream": "stdout",
       "text": [
        "Series created:\n",
        "0     1\n",
        "1     3\n",
        "2     5\n",
        "3   NaN\n",
        "4     6\n",
        "5     8\n",
        "dtype: float64\n",
        "Date range created:\n",
        "DatetimeIndex(['2013-01-01', '2013-01-02', '2013-01-03', '2013-01-04',\n",
        "               '2013-01-05', '2013-01-06'],\n",
        "              dtype='datetime64[ns]', freq='D')\n",
        "Data frame created:\n",
        "                   A         B         C         D\n",
        "2013-01-01  0.599933  0.956120 -0.370720  0.168833\n",
        "2013-01-02  0.074105  0.546773  0.921473 -0.903006\n",
        "2013-01-03 -0.190171  0.354031 -0.464059  0.986653\n",
        "2013-01-04  0.438372 -0.481409  0.832185 -0.846950\n",
        "2013-01-05 -0.139345 -0.146757  0.609331  2.444760\n",
        "2013-01-06 -0.081323  0.182633  0.458143 -2.938128\n",
        "Data frame 2 created:\n",
        "   A          B  C  D      E    F\n",
        "0  1 2013-01-02  1  3   test  foo\n",
        "1  1 2013-01-02  1  3  train  foo\n",
        "2  1 2013-01-02  1  3   test  foo\n",
        "3  1 2013-01-02  1  3  train  foo\n",
        "Data frame 2 types:\n",
        "A           float64\n",
        "B    datetime64[ns]\n",
        "C           float32\n",
        "D             int32\n",
        "E          category\n",
        "F            object\n",
        "dtype: object\n"
       ]
      }
     ],
     "prompt_number": 3
    },
    {
     "cell_type": "markdown",
     "metadata": {},
     "source": [
      "**5.2 Viewing data:**"
     ]
    },
    {
     "cell_type": "code",
     "collapsed": false,
     "input": [
      "print(\"head\")\n",
      "print df.head()\n",
      "print df.tail(3)\n",
      "print df.index\n",
      "print df.columns\n",
      "print df.values\n",
      "print(\"describe: \")\n",
      "print df.describe()\n",
      "print df.T\n",
      "print df.sort_index(axis=1, ascending=False)\n",
      "print df.sort(columns='B')"
     ],
     "language": "python",
     "metadata": {},
     "outputs": [
      {
       "output_type": "stream",
       "stream": "stdout",
       "text": [
        "head\n",
        "                   A         B         C         D\n",
        "2013-01-01  0.599933  0.956120 -0.370720  0.168833\n",
        "2013-01-02  0.074105  0.546773  0.921473 -0.903006\n",
        "2013-01-03 -0.190171  0.354031 -0.464059  0.986653\n",
        "2013-01-04  0.438372 -0.481409  0.832185 -0.846950\n",
        "2013-01-05 -0.139345 -0.146757  0.609331  2.444760\n",
        "                   A         B         C         D\n",
        "2013-01-04  0.438372 -0.481409  0.832185 -0.846950\n",
        "2013-01-05 -0.139345 -0.146757  0.609331  2.444760\n",
        "2013-01-06 -0.081323  0.182633  0.458143 -2.938128\n",
        "DatetimeIndex(['2013-01-01', '2013-01-02', '2013-01-03', '2013-01-04',\n",
        "               '2013-01-05', '2013-01-06'],\n",
        "              dtype='datetime64[ns]', freq='D')\n",
        "Index([u'A', u'B', u'C', u'D'], dtype='object')\n",
        "[[ 0.59993328  0.95611964 -0.37072026  0.16883266]\n",
        " [ 0.07410529  0.54677283  0.92147286 -0.9030064 ]\n",
        " [-0.19017083  0.35403123 -0.46405907  0.98665342]\n",
        " [ 0.43837178 -0.48140882  0.83218541 -0.84694998]\n",
        " [-0.13934507 -0.14675674  0.60933073  2.44475982]\n",
        " [-0.08132253  0.18263344  0.45814271 -2.93812769]]\n",
        "describe: \n",
        "              A         B         C         D\n",
        "count  6.000000  6.000000  6.000000  6.000000\n",
        "mean   0.116929  0.235232  0.331059 -0.181306\n",
        "std    0.327946  0.508548  0.602994  1.841029\n",
        "min   -0.190171 -0.481409 -0.464059 -2.938128\n",
        "25%   -0.124839 -0.064409 -0.163505 -0.888992\n",
        "50%   -0.003609  0.268332  0.533737 -0.339059\n",
        "75%    0.347305  0.498587  0.776472  0.782198\n",
        "max    0.599933  0.956120  0.921473  2.444760"
       ]
      },
      {
       "output_type": "stream",
       "stream": "stdout",
       "text": [
        "\n",
        "   2013-01-01  2013-01-02  2013-01-03  2013-01-04  2013-01-05  2013-01-06\n",
        "A    0.599933    0.074105   -0.190171    0.438372   -0.139345   -0.081323\n",
        "B    0.956120    0.546773    0.354031   -0.481409   -0.146757    0.182633\n",
        "C   -0.370720    0.921473   -0.464059    0.832185    0.609331    0.458143\n",
        "D    0.168833   -0.903006    0.986653   -0.846950    2.444760   -2.938128\n",
        "                   D         C         B         A\n",
        "2013-01-01  0.168833 -0.370720  0.956120  0.599933\n",
        "2013-01-02 -0.903006  0.921473  0.546773  0.074105\n",
        "2013-01-03  0.986653 -0.464059  0.354031 -0.190171\n",
        "2013-01-04 -0.846950  0.832185 -0.481409  0.438372\n",
        "2013-01-05  2.444760  0.609331 -0.146757 -0.139345\n",
        "2013-01-06 -2.938128  0.458143  0.182633 -0.081323\n",
        "                   A         B         C         D\n",
        "2013-01-04  0.438372 -0.481409  0.832185 -0.846950\n",
        "2013-01-05 -0.139345 -0.146757  0.609331  2.444760\n",
        "2013-01-06 -0.081323  0.182633  0.458143 -2.938128\n",
        "2013-01-03 -0.190171  0.354031 -0.464059  0.986653\n",
        "2013-01-02  0.074105  0.546773  0.921473 -0.903006\n",
        "2013-01-01  0.599933  0.956120 -0.370720  0.168833"
       ]
      },
      {
       "output_type": "stream",
       "stream": "stdout",
       "text": [
        "\n"
       ]
      },
      {
       "output_type": "stream",
       "stream": "stderr",
       "text": [
        "-c:11: FutureWarning: sort(columns=....) is deprecated, use sort_values(by=.....)\n"
       ]
      }
     ],
     "prompt_number": 5
    },
    {
     "cell_type": "markdown",
     "metadata": {},
     "source": [
      "**5.3 Selection:**"
     ]
    },
    {
     "cell_type": "code",
     "collapsed": false,
     "input": [
      "# Getting\n",
      "print df['A']\n",
      "print df[0:3]\n",
      "print df['20130102':'20130104']\n",
      "\n",
      "# Selecting by labels\n",
      "print df.loc[dates[0]]\n",
      "print df.loc[:,['A', 'B']]\n",
      "print df.loc['20130102':'20130104', ['A', 'B']]\n",
      "print df.loc['20130102', ['A', 'B']]\n",
      "print df.loc[dates[0], 'A']\n",
      "print df.at[dates[0], 'A']\n",
      "\n",
      "# Selecting by position\n",
      "print df.iloc[3]\n",
      "print df.iloc[3:5,0:2]\n",
      "print df.iloc[[1,2,4], [0,2]]\n",
      "print df.iloc[1:3, :]\n",
      "print df.iloc[:, 1:3]\n",
      "print df.iloc[1,1] #df.iat[1,1] would be the same\n",
      "\n",
      "# Boolean indexing\n",
      "print df[df.A > 0]\n",
      "print df[df > 0]\n",
      "df2 = df.copy()\n",
      "df2['E'] = ['one', 'one', 'two', 'three', 'four', 'three']\n",
      "print df2\n",
      "print df2[df2['E'].isin(['two', 'four'])]\n",
      "\n",
      "# Setting\n",
      "s1 = pd.Series([1,2,3,4,5,6], index=pd.date_range('20130102', periods=6))\n",
      "df['F'] = s1\n",
      "df.at[dates[0], 'A'] = 0 \n",
      "df.iat[0,1] = 0\n",
      "df.loc[:, 'D'] = np.array([5] * len(df))\n",
      "print df\n",
      "df2 = df.copy()\n",
      "df2[df2>0] = -df2\n",
      "print df2"
     ],
     "language": "python",
     "metadata": {},
     "outputs": []
    },
    {
     "cell_type": "markdown",
     "metadata": {},
     "source": [
      "**5.4 Missing Data:**"
     ]
    },
    {
     "cell_type": "code",
     "collapsed": false,
     "input": [
      "df1 = df.reindex(index=dates[0:4], columns=list(df.columns)+['E'])\n",
      "df1.loc[dates[0]:dates[1], 'E'] = 1\n",
      "print df1\n",
      "print df1.dropna(how='any')\n",
      "print df1.fillna(value=5)\n",
      "print pd.isnull(df1)"
     ],
     "language": "python",
     "metadata": {},
     "outputs": []
    },
    {
     "cell_type": "markdown",
     "metadata": {},
     "source": [
      "**5.5 Operations**"
     ]
    },
    {
     "cell_type": "code",
     "collapsed": false,
     "input": [
      "# Stats\n",
      "print df.mean()\n",
      "print df.mean(1)\n",
      "s = pd.Series([1,3,5,np.nan, 6,8],index=dates).shift(2)\n",
      "print s\n",
      "print df.sub(s,axis='index')\n",
      "\n",
      "# Apply\n",
      "print df.apply(np.cumsum)\n",
      "print df.apply(lambda x: x.max() - x.min())\n",
      "\n",
      "# Histogram\n",
      "s = pd.Series(np.random.randint(0,7,size=10))\n",
      "print s\n",
      "print s.value_counts()\n",
      "\n",
      "# String methods\n",
      "s = pd.Series(['A', 'B', 'C', 'Aaba', 'Baca', np.nan, 'CABA', 'dog', 'cat'])\n",
      "s.str.lower()"
     ],
     "language": "python",
     "metadata": {},
     "outputs": []
    },
    {
     "cell_type": "markdown",
     "metadata": {},
     "source": [
      "**5.6 Merge:**"
     ]
    },
    {
     "cell_type": "code",
     "collapsed": false,
     "input": [
      "# Concat:\n",
      "df = pd.DataFrame(np.random.randn(10,4))\n",
      "print df\n",
      "pieces = [df[:3], df[3:7], df[7:]]\n",
      "print pieces\n",
      "print pd.concat(pieces)\n",
      "\n",
      "# Join:\n",
      "left = pd.DataFrame({'key':['foo', 'foo'], 'lval':[1,2]})\n",
      "right = pd.DataFrame({'key':['foo', 'foo'], 'rval':[4,5]})\n",
      "print pd.merge(left,right, on='key')\n",
      "\n",
      "# Append:\n",
      "df = pd.DataFrame(np.random.randn(8,4), columns=['A', 'B', 'C', 'D'])\n",
      "print df\n",
      "s = df.iloc[3]\n",
      "print df.append(s, ignore_index=True)\n"
     ],
     "language": "python",
     "metadata": {},
     "outputs": []
    },
    {
     "cell_type": "markdown",
     "metadata": {},
     "source": [
      "**5.7 Grouping**"
     ]
    },
    {
     "cell_type": "code",
     "collapsed": false,
     "input": [
      "df = pd.DataFrame({'A' : ['foo', 'bar', 'foo', 'bar',\n",
      "                          'foo', 'bar', 'foo', 'foo'],\n",
      "                   'B' : ['one', 'one', 'two', 'three', \n",
      "                          'two', 'two', 'one', 'three'],\n",
      "                   'C' : np.random.randn(8),\n",
      "                   'D' : np.random.randn(8)})\n",
      "print df\n",
      "print df.groupby('A').sum()\n",
      "print df.groupby(['A', 'B']).sum()"
     ],
     "language": "python",
     "metadata": {},
     "outputs": []
    },
    {
     "cell_type": "markdown",
     "metadata": {},
     "source": [
      "**5.8 Reshaping**"
     ]
    },
    {
     "cell_type": "code",
     "collapsed": false,
     "input": [
      "# Stack\n",
      "tuples = list(zip(*[['bar', 'bar', 'baz', 'baz',\n",
      "                    'foo', 'foo', 'qux', 'qux'],\n",
      "                  ['one', 'two', 'one', 'two', \n",
      "                   'one', 'two', 'one', 'two']]))\n",
      "index = pd.MultiIndex.from_tuples(tuples, names=['first', 'second'])\n",
      "df = pd.DataFrame(np.random.randn(8,2), index=index, columns=['A', 'B'])\n",
      "df2 = df[:4]\n",
      "print df2\n",
      "\n",
      "stacked = df2.stack()\n",
      "print stacked\n",
      "print stacked.unstack()\n",
      "print stacked.unstack(1)\n",
      "print stacked.unstack(2)\n",
      "print stacked.unstack(0)\n",
      "\n",
      "# Pivot Tables\n",
      "df = pd.DataFrame({'A' : ['one', 'one', 'two', 'three'] * 3,\n",
      "                   'B' : ['A', 'B', 'C'] * 4,\n",
      "                   'C' : ['foo', 'foo', 'foo', 'bar', 'bar', 'bar'] * 2,\n",
      "                   'D' : np.random.randn(12),\n",
      "                   'E' : np.random.randn(12)})\n",
      "print df\n",
      "print pd.pivot_table(df, values = 'D', index = ['A','B'], columns=['C'])"
     ],
     "language": "python",
     "metadata": {},
     "outputs": []
    },
    {
     "cell_type": "markdown",
     "metadata": {},
     "source": [
      "** 5.9 Time Series **"
     ]
    },
    {
     "cell_type": "code",
     "collapsed": false,
     "input": [
      "rng = pd.date_range('1/1/2012', periods=100, freq='s')\n",
      "ts = pd.Series(np.random.randint(0,500,len(rng)), index=rng)\n",
      "print ts.resample('5min', how='sum')\n",
      "\n",
      "rng = pd.date_range('3/6/2012 00:00', periods=5, freq='D')\n",
      "ts = pd.Series(np.random.randn(len(rng)), rng)\n",
      "print ts\n",
      "ts_utc = ts.tz_localize('UTC')\n",
      "print ts_utc\n",
      "print ts_utc.tz_convert('US/Eastern')\n",
      "\n",
      "rng = pd.date_range('1/1/2012', periods=5, freq='M')\n",
      "ts = pd.Series(np.random.randn(len(rng)), index=rng)\n",
      "ps = ts.to_period()\n",
      "print ps\n",
      "print ps.to_timestamp()\n",
      "\n",
      "prng = pd.period_range('1990Q1', '2000Q4', freq='Q-NOV')\n",
      "ts = pd.Series(np.random.randn(len(prng)), prng)\n",
      "ts.index = (prng.asfreq('M', 'e') + 1).asfreq('H', 's') + 9\n",
      "print ts.head()"
     ],
     "language": "python",
     "metadata": {},
     "outputs": []
    },
    {
     "cell_type": "markdown",
     "metadata": {},
     "source": [
      "** 5.10 Categoricals**"
     ]
    },
    {
     "cell_type": "code",
     "collapsed": false,
     "input": [
      "df = pd.DataFrame({\"id\":[1,2,3,4,5,6], \"raw_grade\":['a', 'b', 'b', 'a', 'a', 'e']})\n",
      "df[\"grade\"] = df[\"raw_grade\"].astype(\"category\")\n",
      "print df[\"grade\"]\n",
      "\n",
      "df[\"grade\"].cat.categories = [\"very good\", \"good\", \"very bad\"]\n",
      "df[\"grade\"] = df[\"grade\"].cat.set_categories([\"very bad\", \"bad\", \"medium\", \"good\", \"very good\"])\n",
      "print df[\"grade\"]\n",
      "print df.sort(\"grade\")\n",
      "print df.groupby(\"grade\").size()"
     ],
     "language": "python",
     "metadata": {},
     "outputs": []
    },
    {
     "cell_type": "markdown",
     "metadata": {},
     "source": [
      "**5.11 Plotting**"
     ]
    },
    {
     "cell_type": "code",
     "collapsed": false,
     "input": [
      "ts = pd.Series(np.random.randn(1000), index=pd.date_range('1/1/2000', periods=1000))\n",
      "ts = ts.cumsum()\n",
      "ts.plot()"
     ],
     "language": "python",
     "metadata": {},
     "outputs": []
    },
    {
     "cell_type": "code",
     "collapsed": false,
     "input": [
      "df = pd.DataFrame(np.random.randn(1000, 4), index=ts.index,\n",
      "                  columns=['A', 'B', 'C', 'D'])\n",
      "df = df.cumsum()\n",
      "plt.figure(); df.plot(); plt.legend(loc='best')"
     ],
     "language": "python",
     "metadata": {},
     "outputs": []
    },
    {
     "cell_type": "markdown",
     "metadata": {},
     "source": [
      "** 5.12 Getting Data In/Out**"
     ]
    },
    {
     "cell_type": "code",
     "collapsed": false,
     "input": [
      "df.to_csv('test.csv')"
     ],
     "language": "python",
     "metadata": {},
     "outputs": []
    },
    {
     "cell_type": "code",
     "collapsed": false,
     "input": [
      "pd.read_csv('test.csv')"
     ],
     "language": "python",
     "metadata": {},
     "outputs": []
    },
    {
     "cell_type": "code",
     "collapsed": false,
     "input": [
      "df.to_hdf('test.h5', 'df')"
     ],
     "language": "python",
     "metadata": {},
     "outputs": []
    },
    {
     "cell_type": "code",
     "collapsed": false,
     "input": [
      "pd.read_hdf('test.h5', 'df')"
     ],
     "language": "python",
     "metadata": {},
     "outputs": []
    },
    {
     "cell_type": "code",
     "collapsed": false,
     "input": [
      "df.to_excel('test.xlsx', sheet_name = 'Sheet1')"
     ],
     "language": "python",
     "metadata": {},
     "outputs": []
    },
    {
     "cell_type": "code",
     "collapsed": false,
     "input": [
      "pd.read_excel('test.xlsx', 'Sheet1', index_col=None, na_values=['NA'])"
     ],
     "language": "python",
     "metadata": {},
     "outputs": []
    },
    {
     "cell_type": "code",
     "collapsed": false,
     "input": [],
     "language": "python",
     "metadata": {},
     "outputs": []
    }
   ],
   "metadata": {}
  }
 ]
}